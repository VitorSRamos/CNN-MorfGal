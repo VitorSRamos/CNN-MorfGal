{
  "nbformat": 4,
  "nbformat_minor": 0,
  "metadata": {
    "colab": {
      "name": "CNN_1.ipynb",
      "provenance": [],
      "collapsed_sections": [],
      "mount_file_id": "1mxmocgycTtC5Sk86PshafjfQJS6iRumC",
      "authorship_tag": "ABX9TyMfMURt1S+EJg2JJ0v99MEI",
      "include_colab_link": true
    },
    "kernelspec": {
      "name": "python3",
      "display_name": "Python 3"
    },
    "language_info": {
      "name": "python"
    },
    "widgets": {
      "application/vnd.jupyter.widget-state+json": {
        "3b5dd1eb54ef4551a435cb2e0ef5b7a8": {
          "model_module": "@jupyter-widgets/controls",
          "model_name": "HBoxModel",
          "model_module_version": "1.5.0",
          "state": {
            "_dom_classes": [],
            "_model_module": "@jupyter-widgets/controls",
            "_model_module_version": "1.5.0",
            "_model_name": "HBoxModel",
            "_view_count": null,
            "_view_module": "@jupyter-widgets/controls",
            "_view_module_version": "1.5.0",
            "_view_name": "HBoxView",
            "box_style": "",
            "children": [
              "IPY_MODEL_d0089e7f8e1c41fda1605e1d3e0cd5b4",
              "IPY_MODEL_6ac7caca8c1a4d328d0fa6518e1e4e6a",
              "IPY_MODEL_d22ebfd94fbe4b43919c6279a17812eb"
            ],
            "layout": "IPY_MODEL_801d85ea63784a2c98e51be3951ca976"
          }
        },
        "d0089e7f8e1c41fda1605e1d3e0cd5b4": {
          "model_module": "@jupyter-widgets/controls",
          "model_name": "HTMLModel",
          "model_module_version": "1.5.0",
          "state": {
            "_dom_classes": [],
            "_model_module": "@jupyter-widgets/controls",
            "_model_module_version": "1.5.0",
            "_model_name": "HTMLModel",
            "_view_count": null,
            "_view_module": "@jupyter-widgets/controls",
            "_view_module_version": "1.5.0",
            "_view_name": "HTMLView",
            "description": "",
            "description_tooltip": null,
            "layout": "IPY_MODEL_99f08697d4f248f5a40946b368b1ba05",
            "placeholder": "​",
            "style": "IPY_MODEL_abbc6766588c4d7c8a5c9d36dca407ca",
            "value": "100%"
          }
        },
        "6ac7caca8c1a4d328d0fa6518e1e4e6a": {
          "model_module": "@jupyter-widgets/controls",
          "model_name": "FloatProgressModel",
          "model_module_version": "1.5.0",
          "state": {
            "_dom_classes": [],
            "_model_module": "@jupyter-widgets/controls",
            "_model_module_version": "1.5.0",
            "_model_name": "FloatProgressModel",
            "_view_count": null,
            "_view_module": "@jupyter-widgets/controls",
            "_view_module_version": "1.5.0",
            "_view_name": "ProgressView",
            "bar_style": "success",
            "description": "",
            "description_tooltip": null,
            "layout": "IPY_MODEL_25a10195327943b99357a7d1034bed33",
            "max": 80,
            "min": 0,
            "orientation": "horizontal",
            "style": "IPY_MODEL_5fc901969be043bc985ebcb2e9a27d7b",
            "value": 80
          }
        },
        "d22ebfd94fbe4b43919c6279a17812eb": {
          "model_module": "@jupyter-widgets/controls",
          "model_name": "HTMLModel",
          "model_module_version": "1.5.0",
          "state": {
            "_dom_classes": [],
            "_model_module": "@jupyter-widgets/controls",
            "_model_module_version": "1.5.0",
            "_model_name": "HTMLModel",
            "_view_count": null,
            "_view_module": "@jupyter-widgets/controls",
            "_view_module_version": "1.5.0",
            "_view_name": "HTMLView",
            "description": "",
            "description_tooltip": null,
            "layout": "IPY_MODEL_50cb8172102e4750969baee3cc89ada6",
            "placeholder": "​",
            "style": "IPY_MODEL_92458feacc6a463eae1ee7560f495cbd",
            "value": " 80/80 [07:45&lt;00:00,  5.64s/epoch, loss=0.121, binary_accuracy=0.947, val_loss=0.149, val_binary_accuracy=0.951]"
          }
        },
        "801d85ea63784a2c98e51be3951ca976": {
          "model_module": "@jupyter-widgets/base",
          "model_name": "LayoutModel",
          "model_module_version": "1.2.0",
          "state": {
            "_model_module": "@jupyter-widgets/base",
            "_model_module_version": "1.2.0",
            "_model_name": "LayoutModel",
            "_view_count": null,
            "_view_module": "@jupyter-widgets/base",
            "_view_module_version": "1.2.0",
            "_view_name": "LayoutView",
            "align_content": null,
            "align_items": null,
            "align_self": null,
            "border": null,
            "bottom": null,
            "display": null,
            "flex": null,
            "flex_flow": null,
            "grid_area": null,
            "grid_auto_columns": null,
            "grid_auto_flow": null,
            "grid_auto_rows": null,
            "grid_column": null,
            "grid_gap": null,
            "grid_row": null,
            "grid_template_areas": null,
            "grid_template_columns": null,
            "grid_template_rows": null,
            "height": null,
            "justify_content": null,
            "justify_items": null,
            "left": null,
            "margin": null,
            "max_height": null,
            "max_width": null,
            "min_height": null,
            "min_width": null,
            "object_fit": null,
            "object_position": null,
            "order": null,
            "overflow": null,
            "overflow_x": null,
            "overflow_y": null,
            "padding": null,
            "right": null,
            "top": null,
            "visibility": null,
            "width": null
          }
        },
        "99f08697d4f248f5a40946b368b1ba05": {
          "model_module": "@jupyter-widgets/base",
          "model_name": "LayoutModel",
          "model_module_version": "1.2.0",
          "state": {
            "_model_module": "@jupyter-widgets/base",
            "_model_module_version": "1.2.0",
            "_model_name": "LayoutModel",
            "_view_count": null,
            "_view_module": "@jupyter-widgets/base",
            "_view_module_version": "1.2.0",
            "_view_name": "LayoutView",
            "align_content": null,
            "align_items": null,
            "align_self": null,
            "border": null,
            "bottom": null,
            "display": null,
            "flex": null,
            "flex_flow": null,
            "grid_area": null,
            "grid_auto_columns": null,
            "grid_auto_flow": null,
            "grid_auto_rows": null,
            "grid_column": null,
            "grid_gap": null,
            "grid_row": null,
            "grid_template_areas": null,
            "grid_template_columns": null,
            "grid_template_rows": null,
            "height": null,
            "justify_content": null,
            "justify_items": null,
            "left": null,
            "margin": null,
            "max_height": null,
            "max_width": null,
            "min_height": null,
            "min_width": null,
            "object_fit": null,
            "object_position": null,
            "order": null,
            "overflow": null,
            "overflow_x": null,
            "overflow_y": null,
            "padding": null,
            "right": null,
            "top": null,
            "visibility": null,
            "width": null
          }
        },
        "abbc6766588c4d7c8a5c9d36dca407ca": {
          "model_module": "@jupyter-widgets/controls",
          "model_name": "DescriptionStyleModel",
          "model_module_version": "1.5.0",
          "state": {
            "_model_module": "@jupyter-widgets/controls",
            "_model_module_version": "1.5.0",
            "_model_name": "DescriptionStyleModel",
            "_view_count": null,
            "_view_module": "@jupyter-widgets/base",
            "_view_module_version": "1.2.0",
            "_view_name": "StyleView",
            "description_width": ""
          }
        },
        "25a10195327943b99357a7d1034bed33": {
          "model_module": "@jupyter-widgets/base",
          "model_name": "LayoutModel",
          "model_module_version": "1.2.0",
          "state": {
            "_model_module": "@jupyter-widgets/base",
            "_model_module_version": "1.2.0",
            "_model_name": "LayoutModel",
            "_view_count": null,
            "_view_module": "@jupyter-widgets/base",
            "_view_module_version": "1.2.0",
            "_view_name": "LayoutView",
            "align_content": null,
            "align_items": null,
            "align_self": null,
            "border": null,
            "bottom": null,
            "display": null,
            "flex": null,
            "flex_flow": null,
            "grid_area": null,
            "grid_auto_columns": null,
            "grid_auto_flow": null,
            "grid_auto_rows": null,
            "grid_column": null,
            "grid_gap": null,
            "grid_row": null,
            "grid_template_areas": null,
            "grid_template_columns": null,
            "grid_template_rows": null,
            "height": null,
            "justify_content": null,
            "justify_items": null,
            "left": null,
            "margin": null,
            "max_height": null,
            "max_width": null,
            "min_height": null,
            "min_width": null,
            "object_fit": null,
            "object_position": null,
            "order": null,
            "overflow": null,
            "overflow_x": null,
            "overflow_y": null,
            "padding": null,
            "right": null,
            "top": null,
            "visibility": null,
            "width": null
          }
        },
        "5fc901969be043bc985ebcb2e9a27d7b": {
          "model_module": "@jupyter-widgets/controls",
          "model_name": "ProgressStyleModel",
          "model_module_version": "1.5.0",
          "state": {
            "_model_module": "@jupyter-widgets/controls",
            "_model_module_version": "1.5.0",
            "_model_name": "ProgressStyleModel",
            "_view_count": null,
            "_view_module": "@jupyter-widgets/base",
            "_view_module_version": "1.2.0",
            "_view_name": "StyleView",
            "bar_color": null,
            "description_width": ""
          }
        },
        "50cb8172102e4750969baee3cc89ada6": {
          "model_module": "@jupyter-widgets/base",
          "model_name": "LayoutModel",
          "model_module_version": "1.2.0",
          "state": {
            "_model_module": "@jupyter-widgets/base",
            "_model_module_version": "1.2.0",
            "_model_name": "LayoutModel",
            "_view_count": null,
            "_view_module": "@jupyter-widgets/base",
            "_view_module_version": "1.2.0",
            "_view_name": "LayoutView",
            "align_content": null,
            "align_items": null,
            "align_self": null,
            "border": null,
            "bottom": null,
            "display": null,
            "flex": null,
            "flex_flow": null,
            "grid_area": null,
            "grid_auto_columns": null,
            "grid_auto_flow": null,
            "grid_auto_rows": null,
            "grid_column": null,
            "grid_gap": null,
            "grid_row": null,
            "grid_template_areas": null,
            "grid_template_columns": null,
            "grid_template_rows": null,
            "height": null,
            "justify_content": null,
            "justify_items": null,
            "left": null,
            "margin": null,
            "max_height": null,
            "max_width": null,
            "min_height": null,
            "min_width": null,
            "object_fit": null,
            "object_position": null,
            "order": null,
            "overflow": null,
            "overflow_x": null,
            "overflow_y": null,
            "padding": null,
            "right": null,
            "top": null,
            "visibility": null,
            "width": null
          }
        },
        "92458feacc6a463eae1ee7560f495cbd": {
          "model_module": "@jupyter-widgets/controls",
          "model_name": "DescriptionStyleModel",
          "model_module_version": "1.5.0",
          "state": {
            "_model_module": "@jupyter-widgets/controls",
            "_model_module_version": "1.5.0",
            "_model_name": "DescriptionStyleModel",
            "_view_count": null,
            "_view_module": "@jupyter-widgets/base",
            "_view_module_version": "1.2.0",
            "_view_name": "StyleView",
            "description_width": ""
          }
        }
      }
    },
    "accelerator": "GPU"
  },
  "cells": [
    {
      "cell_type": "markdown",
      "metadata": {
        "id": "view-in-github",
        "colab_type": "text"
      },
      "source": [
        "<a href=\"https://colab.research.google.com/github/VitorSRamos/CNN-MorfGal/blob/main/exemplos%20de%20treinamento/CNN_1.ipynb\" target=\"_parent\"><img src=\"https://colab.research.google.com/assets/colab-badge.svg\" alt=\"Open In Colab\"/></a>"
      ]
    },
    {
      "cell_type": "markdown",
      "source": [
        "# Importação"
      ],
      "metadata": {
        "id": "Pm7sJ7VIBb4t"
      }
    },
    {
      "cell_type": "markdown",
      "source": [
        "## Módulos"
      ],
      "metadata": {
        "id": "1cIuWfZhBqIk"
      }
    },
    {
      "cell_type": "code",
      "execution_count": null,
      "metadata": {
        "id": "G6QTiX75BJx_"
      },
      "outputs": [],
      "source": [
        "import numpy as np\n",
        "import tensorflow as tf\n",
        "import pandas as pd\n",
        "import numpy as np\n",
        "import os\n",
        "import random\n",
        "from sklearn.model_selection import train_test_split\n",
        "from tensorflow.keras.utils import to_categorical\n",
        "from keras.preprocessing.image import ImageDataGenerator\n",
        "from tqdm.keras import TqdmCallback\n",
        "import matplotlib.pyplot as plt\n",
        "import matplotlib.image as mpimg\n",
        "from keras.callbacks import ModelCheckpoint"
      ]
    },
    {
      "cell_type": "code",
      "source": [
        "os.environ['PYTHONHASHSEED'] = '12'\n",
        "np.random.seed(123)\n",
        "random.seed(1234)\n",
        "tf.random.set_seed(12345)"
      ],
      "metadata": {
        "id": "HS2Si_uPclO4"
      },
      "execution_count": null,
      "outputs": []
    },
    {
      "cell_type": "markdown",
      "source": [
        "## Dados"
      ],
      "metadata": {
        "id": "gmA9lhAFBrgd"
      }
    },
    {
      "cell_type": "code",
      "source": [
        "folder_path = '/content/drive/MyDrive/.../png_data/'\n",
        "\n",
        "filenames = os.listdir(folder_path) # Crio lista com nomes de arquivos na pasta de imagens\n",
        "\n",
        "# Carregando as imagens para uma lista de tensores. É possível normalizar os tensores usando \"Rescaled_image = np.array(Resized_image)/255\" dentro do loop\n",
        "Input_images = []\n",
        "for image in filenames:\n",
        "  # carregando imagens na resolução desejada \n",
        "  Resized_image  = tf.keras.preprocessing.image.load_img(folder_path+image, target_size=(128,128))\n",
        "  # Transformando em array do numpy e normalizando\n",
        "  array_image = np.array(Resized_image)/255\n",
        "  # Guardando a imagem na lista\n",
        "  Input_images.append(array_image)"
      ],
      "metadata": {
        "id": "FjNd62y2CQcY"
      },
      "execution_count": null,
      "outputs": []
    },
    {
      "cell_type": "code",
      "source": [
        "# Nova lista retirando o '.png' do final dos nomes dos arquivos\n",
        "labels = [filename[:-4] for filename in filenames]\n",
        "print(labels[0])\n",
        "len(labels)\n",
        "\n",
        "# Pegando itens que dão erro (rótulo duplo)\n",
        "error_idx = []\n",
        "counter = 0\n",
        "for item in labels:\n",
        "    if item[-1] == item[-3]:\n",
        "        error_idx.append(counter)\n",
        "    counter += 1\n",
        "print('Houveram {} erros'.format(len(error_idx)))\n",
        "\n",
        "# Corrigindo erros:\n",
        "error_idx.sort(reverse=True) # fazendo do maior índice pro menor para evitar mudanças de índice\n",
        "for item in error_idx:\n",
        "    labels.pop(item)\n",
        "    filenames.pop(item)\n",
        "    Input_images.pop(item)\n",
        "\n",
        "# Checando a existencia de erros após correção\n",
        "new_error_idx = []\n",
        "new_counter = 0\n",
        "for item in labels:\n",
        "    if item[-1] == item[-3]:\n",
        "        new_error_idx.append(new_counter)\n",
        "    new_counter += 1\n",
        "print('Houveram {} erros'.format(len(new_error_idx)))                                                   "
      ],
      "metadata": {
        "id": "tcifodlcDuxD",
        "colab": {
          "base_uri": "https://localhost:8080/"
        },
        "outputId": "4cbdf4dd-464b-4bdd-af47-6703b5d754b3"
      },
      "execution_count": null,
      "outputs": [
        {
          "output_type": "stream",
          "name": "stdout",
          "text": [
            "SPLUS.STRIPE82-0126.18742.grizE0S1\n",
            "Houveram 103 erros\n",
            "Houveram 0 erros\n"
          ]
        }
      ]
    },
    {
      "cell_type": "code",
      "source": [
        "def get_label_list(file_list):\n",
        "    label_list = []\n",
        "    for item in file_list:\n",
        "        if item[-1] == item[-3]:\n",
        "            print('Erro')\n",
        "            break\n",
        "        elif item[-1] == '1': # Spiral\n",
        "\n",
        "            label_list.append(0)\n",
        "        elif item[-3] == '1': # Elliptical\n",
        "            label_list.append(1)\n",
        "        return label_list"
      ],
      "metadata": {
        "id": "IfOhlbz0duEG"
      },
      "execution_count": null,
      "outputs": []
    },
    {
      "cell_type": "code",
      "source": [
        "num_labels = [] # Spiral 0, Elliptical 1\n",
        "\n",
        "for item in labels:\n",
        "    if item[-1] == '1':\n",
        "        num_labels.append(0)\n",
        "    else:\n",
        "        num_labels.append(1)\n",
        "        \n",
        "print(num_labels)\n",
        "print(len(num_labels))\n",
        "print(num_labels.count(1))\n",
        "print(num_labels.count(0))"
      ],
      "metadata": {
        "colab": {
          "base_uri": "https://localhost:8080/"
        },
        "id": "ULxLF_O2dwMn",
        "outputId": "8ac8919e-2bf6-4b6f-e9bb-4fd378d5fff3"
      },
      "execution_count": null,
      "outputs": [
        {
          "output_type": "stream",
          "name": "stdout",
          "text": [
            "[0, 0, 1, 1, 0, 0, 0, 1, 0, 0, 1, 0, 1, 1, 1, 1, 1, 0, 0, 0, 1, 1, 0, 1, 0, 0, 1, 0, 1, 0, 0, 1, 1, 1, 1, 1, 0, 0, 0, 1, 0, 0, 0, 0, 1, 1, 0, 0, 0, 0, 0, 1, 1, 0, 0, 0, 1, 0, 0, 1, 0, 1, 1, 0, 0, 0, 0, 0, 1, 0, 0, 0, 0, 0, 0, 0, 1, 0, 1, 0, 0, 0, 0, 0, 0, 0, 1, 0, 0, 0, 0, 0, 1, 1, 1, 0, 0, 0, 1, 1, 1, 1, 0, 0, 1, 1, 0, 0, 1, 0, 0, 1, 1, 0, 0, 0, 0, 1, 0, 1, 0, 0, 1, 1, 0, 0, 0, 0, 0, 1, 0, 0, 0, 0, 0, 1, 1, 0, 0, 0, 0, 0, 1, 1, 0, 1, 0, 0, 0, 0, 0, 1, 1, 0, 1, 0, 0, 0, 0, 1, 0, 1, 0, 0, 0, 0, 0, 1, 0, 0, 0, 0, 1, 0, 0, 0, 0, 0, 0, 0, 1, 1, 1, 0, 0, 0, 0, 0, 1, 0, 0, 0, 1, 0, 0, 1, 0, 0, 0, 0, 1, 0, 0, 0, 0, 1, 0, 0, 0, 0, 0, 0, 0, 0, 0, 0, 0, 0, 0, 0, 0, 0, 0, 1, 0, 0, 0, 1, 0, 0, 1, 0, 0, 0, 0, 0, 1, 0, 1, 0, 0, 0, 1, 0, 1, 0, 0, 1, 0, 0, 1, 1, 1, 0, 0, 0, 1, 1, 0, 0, 0, 1, 0, 0, 0, 0, 0, 0, 0, 1, 0, 1, 1, 0, 0, 0, 1, 0, 0, 1, 0, 1, 0, 0, 1, 0, 0, 1, 0, 0, 0, 0, 0, 0, 0, 0, 0, 1, 0, 1, 1, 1, 0, 0, 1, 1, 0, 0, 0, 0, 1, 1, 1, 0, 1, 0, 1, 0, 0, 1, 0, 0, 0, 0, 1, 1, 0, 0, 1, 0, 1, 0, 0, 0, 1, 1, 1, 1, 1, 1, 0, 0, 0, 0, 0, 0, 1, 0, 1, 0, 1, 0, 0, 0, 0, 0, 0, 0, 0, 0, 1, 1, 0, 0, 0, 0, 1, 0, 1, 0, 0, 1, 1, 0, 0, 0, 0, 1, 0, 1, 0, 0, 0, 0, 0, 1, 0, 0, 0, 0, 0, 0, 0, 1, 0, 0, 1, 1, 0, 1, 0, 1, 1, 0, 0, 1, 1, 0, 1, 0, 0, 0, 0, 1, 0, 0, 1, 1, 0, 0, 0, 0, 0, 0, 0, 0, 0, 0, 0, 0, 0, 0, 1, 0, 0, 0, 0, 1, 0, 0, 0, 0, 0, 1, 0, 0, 0, 1, 0, 1, 0, 0, 0, 0, 1, 1, 1, 0, 0, 1, 0, 1, 1, 0, 0, 1, 1, 1, 0, 0, 0, 0, 1, 1, 0, 1, 0, 0, 0, 0, 1, 0, 0, 0, 1, 0, 0, 1, 1, 0, 0, 1, 0, 0, 1, 0, 1, 0, 0, 0, 0, 0, 0, 0, 0, 0, 0, 1, 1, 1, 1, 0, 0, 0, 1, 0, 1, 1, 0, 0, 0, 1, 1, 0, 0, 0, 0, 0, 0, 0, 0, 0, 1, 1, 0, 0, 0, 1, 1, 1, 1, 1, 1, 0, 1, 0, 0, 0, 0, 0, 0, 0, 1, 0, 0, 0, 1, 1, 0, 0, 0, 0, 0, 1, 0, 0, 1, 1, 0, 0, 0, 0, 0, 0, 0, 0, 0, 0, 0, 1, 0, 0, 0, 0, 1, 0, 1, 1, 1, 0, 0, 0, 0, 0, 0, 0, 0, 1, 0, 0, 0, 0, 1, 1, 0, 0, 0, 1, 0, 1, 1, 1, 0, 0, 0, 0, 0, 0, 0, 0, 1, 1, 0, 0, 0, 0, 0, 0, 0, 0, 0, 1, 0, 0, 1, 0, 0, 0, 0, 0, 0, 1, 0, 1, 0, 0, 0, 1, 0, 0, 0, 0, 0, 0, 0, 0, 0, 0, 0, 0, 1, 0, 0, 0, 0, 0, 0, 0, 1, 1, 0, 0, 0, 0, 1, 1, 1, 0, 1, 0, 0, 0, 0, 0, 0, 0, 1, 1, 0, 0, 0, 0, 0, 0, 1, 0, 1, 0, 1, 1, 0, 0, 0, 0, 0, 0, 0, 0, 0, 0, 0, 0, 0, 0, 0, 0, 0, 0, 1, 1, 1, 0, 0, 0, 0, 0, 0, 1, 0, 0, 0, 0, 0, 0, 0, 0, 0, 0, 0, 0, 1, 0, 0, 1, 0, 1, 1, 0, 0, 1, 0, 0, 0, 0, 0, 0, 0, 0, 0, 0, 0, 1, 0, 0, 0, 0, 0, 0, 0, 0, 1, 1, 0, 1, 0, 0, 0, 1, 0, 1, 0, 0, 0, 0, 0, 0, 0, 0, 0, 0, 0, 0, 0, 0, 0, 0, 0, 0, 0, 0, 0, 0, 1, 0, 0, 0, 0, 1, 0, 0, 0, 0, 0, 0, 1, 0, 0, 0, 0, 0, 1, 0, 0, 0, 0, 0, 0, 1, 0, 0, 0, 1, 0, 1, 1, 0, 1, 1, 1, 1, 0, 1, 1, 0, 0, 0, 0, 1, 0, 0, 0, 0, 0, 0, 0, 0, 0, 1, 0, 0, 0, 0, 0, 1, 0, 0, 0, 0, 0, 0, 0, 0, 0, 0, 1, 0, 0, 0, 0, 1, 0, 0, 0, 0, 0, 0, 1, 0, 0, 0, 0, 0, 0, 0, 1, 0, 1, 0, 1, 1, 1, 0, 1, 1, 0, 1, 0, 0, 0, 1, 0, 0, 0, 0, 1, 0, 1, 0, 0, 0, 0, 0, 0, 1, 0, 0, 0, 0, 0, 1, 0, 1, 0, 0, 0, 0, 0, 0, 1, 1, 0, 0, 0, 0, 0, 1, 0, 0, 0, 0, 0, 0, 0, 0, 1, 1, 1, 0, 0, 1, 0, 0, 0, 0, 0, 0, 1, 0, 0, 0, 0, 1, 0, 1, 0, 1, 0, 1, 0, 0, 1, 0, 0, 1, 0, 0, 0, 0, 0, 0, 0, 0, 0, 1, 0, 1, 0, 1, 0, 0, 0, 1, 0, 0, 0, 0, 0, 0, 0, 0, 0, 0, 0, 1, 1, 0, 0, 1, 0, 1, 1, 1, 1, 0, 0, 0, 0, 1, 0, 1, 1, 1, 1, 0, 0, 1, 0, 0, 0, 0, 1, 1, 0, 1, 0, 1, 0, 1, 0, 0, 1, 0, 1, 1, 1, 0, 0, 1, 0, 0, 0, 0, 0, 0, 0, 0, 1, 0, 0, 1, 0, 1, 0, 0, 1, 0, 1, 0, 1, 0, 0, 0, 0, 0, 1, 0, 0, 0, 0, 0, 0, 1, 0, 0, 0, 1, 0, 0, 0, 1, 0, 0, 0, 0, 0, 0, 0, 1, 0, 0, 0, 1, 0, 0, 0, 0, 1, 0, 1, 0, 0, 0, 0, 0, 0, 0, 0, 0, 0, 0, 0, 0, 0, 1, 1, 0, 1, 0, 1, 0, 1, 0, 0, 0, 1, 0, 1, 1, 1, 1, 1, 0, 0, 0, 1, 0, 1, 0, 0, 1, 0, 0, 0, 1, 1, 1, 1, 1, 1, 1, 0, 1, 1, 0, 0, 1, 0, 0, 0, 0, 0, 1, 0, 1, 0, 1, 0, 0, 1, 0, 0, 1, 0, 0, 0, 1, 0, 0, 0, 1, 0, 1, 0, 1, 0, 0, 0, 1, 0, 0, 1, 0, 1, 0, 1, 0, 0, 1, 1, 0, 1, 1, 0, 0, 0, 1, 0, 1, 0, 1, 1, 0, 0, 1, 0, 1, 1, 0, 0, 0, 0, 0, 0, 0, 1, 1, 0, 1, 0, 1, 0, 0, 1, 0, 1, 0, 0, 1, 0, 1, 0, 1, 0, 0, 0, 0, 0, 1, 0, 0, 0, 0, 1, 1, 1, 1, 0, 1, 0, 0, 0, 0, 0, 1, 0, 0, 1, 1, 0, 1, 0, 1, 1, 1, 1, 0, 1, 1, 0, 0, 0, 0, 1, 0, 0, 0, 1, 1, 1, 0, 1, 0, 1, 1, 0, 1, 0, 1, 1, 0, 0, 0, 1, 0, 0, 0, 0, 1, 0, 0, 1, 1, 1, 0, 1, 0, 0, 0, 0, 0, 0, 0, 0, 0, 0, 0, 0, 0, 1, 0, 1, 0, 0, 0, 0, 0, 1, 0, 0, 1, 1, 0, 0, 0, 0, 1, 0, 1, 0, 0, 1, 0, 0, 0, 0, 0, 0, 0, 0, 0, 0, 1, 1, 0, 1, 1, 1, 0, 0, 0, 1, 1, 0, 0, 1, 0, 0, 1, 1, 0, 0, 0, 0, 0, 1, 0, 0, 0, 1, 1, 1, 0, 1, 0, 0, 0, 0, 0, 0, 1, 0, 1, 0, 0, 0, 0, 0, 1, 1, 0, 0, 1, 0, 1, 0, 0, 0, 0, 1, 0, 1, 0, 0, 1, 1, 0, 1, 0, 0, 0, 1, 0, 0, 0, 0, 0, 0, 1, 0, 0, 1, 1, 0, 0, 1, 1, 1, 0, 1, 0, 0, 0, 0, 0, 0, 0, 0, 1, 0, 1, 1, 0, 0, 0, 0, 0, 0, 0, 1, 0, 1, 0, 0, 0, 1, 1, 0, 1, 0, 1, 1, 0, 0, 0, 1, 0, 0, 0, 0, 0, 0, 0, 0, 0, 0, 1, 0, 0, 0, 0, 0, 0, 0, 0, 0, 0, 1, 0, 0, 0, 1, 1, 1, 0, 0, 0, 0, 1, 1, 0, 0, 0, 1, 1, 0, 1, 1, 0, 1, 0, 1, 0, 1, 1, 0, 0, 0, 0, 0, 0, 0, 1, 1, 1, 1, 0, 0, 1, 1, 1, 0, 0, 1, 0, 0, 0, 1, 0, 0, 0, 0, 0, 0, 0, 1, 1, 1, 0, 0, 1, 0, 0, 0, 1, 0, 0, 1, 0, 1, 0, 1, 0, 0, 0, 0, 0, 0, 0, 0, 1, 0, 0, 0, 1, 1, 0, 0, 1, 0, 0, 0, 1, 0, 0, 0, 0, 0, 1, 0, 1, 0, 0, 0, 0, 0, 0, 0, 1, 0, 1, 0, 1, 1, 0, 0, 0, 0, 0, 0, 0, 1, 0, 0, 0, 0, 0, 0, 1, 1, 0, 1, 0, 0, 1, 0, 1, 0, 0, 0, 0, 0, 0, 0, 1, 0, 0, 1, 1, 0, 1, 1, 0, 0, 1, 0, 0, 1, 0, 0, 1, 0, 0, 0, 1, 0, 1, 1, 0, 0, 1, 0, 0, 0, 0, 0, 0, 0, 1, 0, 1, 1, 0, 1, 1, 0, 1, 1, 0, 0, 1, 0, 0, 0, 0, 0, 0, 1, 1, 1, 0, 1, 0, 0, 0, 1, 0, 1, 1, 0, 1, 0, 1, 0, 0, 1, 0, 0, 1, 0, 0, 1, 0, 0, 0, 1, 1, 1, 0, 1, 0, 0, 1, 1, 0, 0, 1, 1, 0, 0, 0, 1, 1, 1, 0, 0, 0, 0, 0, 0, 0, 0, 0, 0, 0, 0, 0, 1, 1, 0, 0, 0, 0, 0, 0, 1, 1, 0, 0, 0, 0, 0, 0, 0, 1, 0, 0, 0, 0, 0, 0, 0, 0, 0, 0, 0, 0, 1, 0, 1, 1, 1, 1, 0, 1, 0, 0, 1, 1, 0, 0, 0, 0, 1, 0, 0, 1, 0, 0, 0, 0, 1, 0, 0, 0, 0, 1, 0, 0, 0, 0, 1, 0, 0, 0, 1, 0, 0, 0, 0, 0, 0, 0, 0, 0, 0, 0, 0, 1, 1, 0, 0, 0, 0, 0, 0, 0, 0, 1, 0, 0, 0, 1, 0, 1, 1, 1, 0, 0, 1, 0, 0, 0, 0, 0, 0, 0, 1, 0, 0, 1, 0, 0, 1, 0, 1, 0, 1, 0, 1, 0, 0, 0, 0, 0, 0, 0, 0, 0, 0, 1, 0, 1, 1, 0, 0, 0, 0, 1, 1, 0, 0, 0, 0, 1, 0, 0, 0, 0, 0, 1, 0, 1, 1, 1, 0, 0, 1, 0, 0, 1, 0, 0, 0, 0, 0, 0, 0, 0, 0, 1, 1, 0, 0, 1, 0, 1, 0, 1, 1, 0, 0, 0, 0, 1, 1, 1, 0, 0, 0, 0, 0, 1, 1, 1, 0, 0, 0, 1, 0, 0, 1, 0, 0, 0, 0, 0, 0, 0, 1, 0, 0, 1, 0, 0, 0, 0, 0, 0, 1, 1, 0, 1, 0, 1, 0, 0, 0, 0, 0, 0, 0, 0, 0, 0, 0, 1, 0, 0, 0, 0, 0, 0, 0, 1, 0, 0, 0, 0, 0, 0, 1, 0, 1, 0, 0, 1, 0, 0, 1, 1, 0, 0, 1, 0, 0, 0, 0, 0, 0, 0, 0, 1, 0, 0, 0, 0, 0, 0, 0, 0, 0, 0, 0, 0, 1, 1, 0, 1, 1, 0, 0, 0, 0, 0, 1, 1, 1, 0, 0, 0, 0, 1, 0, 0, 0, 0, 0, 1, 0, 0, 0, 1, 0, 0, 0, 1, 0, 0, 0, 0, 0, 0, 0, 0, 0, 0, 0, 1, 0, 0, 0, 0, 1, 1, 0, 0, 0, 0, 1, 0, 1, 0, 0, 0, 1, 1, 1, 0, 0, 0, 0, 0, 0, 1, 0, 1, 0, 1, 0, 0, 0, 0, 1, 0, 0, 0, 0, 0, 1, 0, 0, 1, 0, 0, 0, 0, 0, 0, 0, 1, 1, 0, 0, 0, 0, 0, 0, 0, 0, 0, 0, 0, 1, 1, 0, 0, 0, 0, 0, 0, 1, 0, 1, 1, 1, 0, 0, 0, 1, 1, 0, 1, 0, 0, 0, 0, 0, 0, 0, 1, 0, 1, 0, 0, 0, 0, 1, 0, 0, 1, 0, 0, 1, 0, 1, 1, 0, 0, 0, 0, 0, 0, 0, 0, 1, 1, 1, 0, 1, 0, 0, 1, 0, 0, 1, 0, 0, 0, 0, 0, 1, 1, 1, 0, 0, 0, 1, 0, 1, 0, 0, 0, 0, 1, 1, 0, 0, 0, 1, 0, 1, 0, 0, 1, 1, 0, 1, 0, 0, 0, 0, 0, 1, 0, 0, 0, 0, 0, 0, 0, 0, 0, 1, 0, 1, 0, 0, 0, 1, 0, 1, 0, 0, 0, 1, 1, 0, 1, 0, 0, 0, 1, 0, 0, 1, 1, 0, 1, 0, 0, 0, 0, 0, 0, 1, 0, 0, 1, 0, 0, 0, 0, 0, 0, 0, 0, 0, 1, 0, 0, 1, 1, 1, 0, 1, 1, 1, 0, 1, 0, 1, 0, 0, 0, 1, 0, 0, 0, 1, 0, 1, 1, 0, 0, 0, 0, 0, 0, 0, 0, 1, 0, 0, 0, 0, 0, 0, 1, 0, 0, 1, 0, 0, 0, 0, 0, 0, 0, 1, 1, 0, 1, 0, 0, 0, 0, 0, 0, 1, 0, 1, 0, 1, 0, 0, 0, 0, 0, 0, 0, 1, 0, 0, 0, 0, 1, 0, 1, 0, 0, 0, 0, 0, 0, 0, 0, 0, 0, 0, 1, 0, 1, 1, 1, 1, 0, 1, 1, 1, 0, 1, 0, 1, 0, 0, 0, 0, 0, 0, 0, 0, 0, 0, 1, 0, 0, 1, 1, 0, 0, 1, 0, 0, 0, 0, 1, 0, 0, 0, 0, 0, 0, 0, 1, 0, 0, 0, 1, 1, 0, 1, 0, 0, 0, 0, 0, 0, 0, 0, 0, 1, 0, 1, 0, 0, 0, 1, 0, 0, 1, 0, 0, 1, 0, 0, 0, 0, 0, 0, 0, 0, 0, 0, 1, 1, 0, 1, 0, 0, 0, 0, 0, 0, 0, 1, 0, 0, 0, 0, 0, 0, 1, 0, 0, 0, 0, 0, 1, 0, 1, 0, 0, 0, 0, 0, 1, 0, 0, 0, 0, 0, 1, 0, 1, 0, 0, 1, 1, 1, 1, 1, 1, 0, 1, 0, 0, 1, 0, 0, 0, 0, 0, 0, 0, 0, 0, 0, 0, 0, 0, 1, 0, 1, 1, 1, 0, 1, 1, 1, 0, 0, 0, 0, 0, 1, 0, 0, 0, 0, 0, 0, 0, 0, 1, 0, 0, 0, 0, 0, 0, 0, 0, 1, 0, 0, 0, 0, 0, 1, 1, 0, 0, 1, 0, 0, 1, 1, 0, 0, 0, 0, 0, 1, 1, 0, 0, 0, 0, 0, 0, 0, 0, 0, 0, 0, 0, 0, 0, 0, 0, 1, 0, 0, 1, 0, 0, 0, 1, 0, 0, 0, 1, 0, 0, 0, 1, 0, 0, 0, 0, 0, 0, 0, 0, 1, 0, 0, 0, 1, 0, 0, 0, 0, 1, 0, 0, 0, 1, 0, 0, 0, 0, 1, 1, 0, 0, 0, 0, 1, 0, 0, 1, 0, 0, 0, 0, 0, 1, 1, 0, 0, 0, 0, 0, 0, 0, 1, 1, 0, 0, 0, 0, 0, 0, 1, 0, 0, 0, 1, 0, 0, 0, 1, 0, 1, 0, 0, 0, 1, 0, 0, 0, 0, 0, 1, 1, 0, 1, 1, 0, 0, 1, 0, 0, 1, 1, 0, 0, 1, 0, 0, 0, 1, 1, 0, 0, 1, 1, 0, 0, 0, 0, 1, 0, 0, 0, 1, 0, 0, 1, 1, 0, 1, 0, 0, 0, 0, 1, 0, 0, 1, 0, 0, 0, 0, 1, 1, 0, 0, 0, 1, 0, 1, 1, 0, 0, 0, 0, 0, 0, 0, 0, 0, 1, 0, 0, 1, 0, 1, 0, 0, 1, 1, 0, 1, 1, 1, 0, 0, 0, 1, 0, 0, 1, 0, 0, 0, 0, 0, 0, 0, 0, 0, 0, 1, 0, 0, 0, 0, 1, 0, 0, 0, 1, 0, 0, 0, 1, 0, 0, 1, 0, 0, 1, 0, 0, 0, 1, 1, 0, 0, 0, 1, 0, 1, 1, 0, 0, 1, 0, 0, 0, 1, 0, 1, 0, 1, 0, 0, 0, 0, 0, 0, 0, 0, 0, 1, 1, 0, 1, 0, 1, 0, 0, 1, 0, 0, 0, 1, 1, 0, 1, 0, 0, 0, 0, 0, 0, 1, 1, 0, 0, 1, 0, 0, 0, 1, 0, 1, 0, 0, 0, 0, 0, 1, 0, 1, 1, 1, 0, 0, 0, 0, 0, 0, 0, 1, 1, 0, 0, 0, 0, 0, 0, 0, 1, 0, 0, 1, 1, 0, 1, 0, 0, 0, 0, 0, 0, 0, 0, 1, 0, 0, 0, 0, 0, 0, 0, 1, 0, 0, 0, 0, 0, 1, 1, 0, 1, 0, 1, 0, 0, 0, 1, 1, 1, 0, 0, 0, 0, 1, 0, 0, 0, 0, 0, 0, 0, 0, 0, 0, 1, 1, 0, 1, 0, 0, 1, 0, 0, 1, 0, 1, 0, 1, 0, 1, 0, 1, 0, 0, 0, 1, 1, 1, 0, 1, 0, 0, 0, 0, 1, 0, 0, 1, 0, 0, 1, 0, 1, 0, 0, 0, 0, 0, 0, 0, 0, 1, 0, 1, 0, 0, 1, 0, 1, 0, 0, 0, 0, 0, 0, 1, 0, 0, 0, 0, 1, 1, 0, 0, 1, 0, 1, 0, 0, 0, 1, 0, 0, 0, 0, 1, 0, 1, 1, 0, 0, 0, 1, 0, 1, 0, 0, 0, 1, 0, 0, 0, 0, 0, 0, 1, 0, 0, 0, 1, 0, 0, 0, 1, 0, 0, 0, 0, 0, 0, 0, 0, 0, 0, 0, 0, 0, 0, 0, 0, 0, 0, 0, 1, 0, 1, 0, 0, 0, 0, 0, 0, 0, 0, 0, 0, 0, 0, 1, 1, 0, 1, 0, 0, 0, 0, 0, 0, 0, 0, 0, 0, 0, 0, 0, 0, 1, 1, 0, 0, 0, 0, 0, 0, 0, 0, 0, 0, 0, 0, 0, 0, 1, 1, 0, 0, 0, 0, 1, 0, 0, 0, 0, 0, 0, 0, 0, 0, 0, 0, 0, 0, 0, 1, 0, 0, 0, 0, 0, 1, 1, 0, 1, 0, 0, 1, 0, 0, 0, 0, 0, 0, 0, 0, 0, 0, 0, 0, 0, 0, 0, 1, 0, 0, 0, 0, 1, 0, 0, 1, 1, 0, 1, 1, 0, 1, 1, 0, 0, 1, 0, 0, 0, 1, 0, 1, 0, 0, 0, 0, 0, 0, 0, 0, 1, 1, 0, 0, 0, 0, 1, 0, 0, 0, 0, 0, 0, 0, 0, 0, 0, 1, 0, 1, 0, 0, 0, 1, 0, 1, 1, 1, 1, 0, 1, 0, 0, 0, 0, 1, 0, 0, 1, 0, 1, 0, 1, 0, 0, 0, 0, 0, 1, 1, 0, 1, 0, 0, 1, 0, 0, 0, 0, 1, 0, 0, 1, 0, 1, 1, 0, 0, 1, 0, 0, 1, 0, 0, 1, 0, 1, 1, 1, 0, 1, 0, 0, 0, 0, 0, 1, 0, 0, 0, 0, 0, 0, 0, 0, 1, 1, 0, 0, 1, 1, 0, 0, 0, 0, 0, 0, 1, 0, 1, 0, 1, 0, 0, 1, 0, 0, 1, 1, 1, 0, 0, 1, 1, 0, 0, 0, 0, 1, 0, 0, 0, 0, 0, 1, 0, 0, 1, 1, 0, 1, 1, 1, 1, 0, 0, 1, 1, 1, 1, 1, 1, 0, 0, 0, 1, 0, 1, 0, 1, 0, 0, 0, 0, 1, 0, 1, 0, 1, 0, 1, 0, 0, 0, 1, 1, 1, 0, 1, 1, 0, 0, 0, 0, 1, 1, 1, 0, 0, 0, 0, 1, 0, 1, 0, 0, 0, 0, 1, 1, 0, 0, 0, 1, 0, 0, 1, 1, 0, 0, 0, 0, 0, 1, 0, 1, 0, 0, 0, 1, 0, 1, 1, 0, 0, 0, 1, 0, 1, 0, 1, 0, 0, 0, 1, 0, 1, 1, 0, 0, 0, 1, 0, 1, 0, 1, 0, 1, 1, 1, 0, 1, 0, 1, 0, 0, 0, 0, 0, 0, 1, 1, 1, 1, 0, 1, 0, 0, 0, 0, 1, 1, 0, 0, 1, 0, 0, 1, 0, 0, 0, 0, 0, 0, 0, 0, 1, 0, 0, 0, 1, 1, 0, 0, 0, 0, 0, 0, 0, 0, 1, 1, 0, 0, 0, 0, 0, 0, 0, 0, 1, 1, 0, 0, 1, 0, 0, 1, 0, 0, 0, 0, 0, 0, 1, 0, 1, 0, 0, 1, 0, 0, 0, 0, 0, 0, 1, 0, 0, 1, 0, 1, 0, 1, 1, 0, 1, 0, 0, 0, 1, 0, 0, 0, 0, 0, 0, 0, 0, 0, 0, 1, 1, 0, 0, 1, 1, 0, 0, 0, 1, 0, 1, 0, 0, 1, 0, 0, 0, 1, 0, 0, 0, 1, 0, 0, 1, 1, 1, 0, 1, 0, 0, 1, 0, 0, 1, 1, 0, 0, 0, 0, 0, 1, 1, 0, 0, 0, 0, 1, 0, 0, 1, 0, 0, 0, 0, 0, 0, 1, 0, 0, 1, 1, 0, 0, 1, 1, 0, 0, 0, 0, 0, 0, 1, 1, 0, 0, 0, 0, 0, 0, 0, 0, 0, 0, 0, 0, 0, 0, 0, 0, 0, 0, 1, 0, 0, 0, 0, 0, 1, 1, 1, 1, 1, 0, 1, 1, 0, 0, 1, 0, 0, 0, 1, 1, 0, 1, 0, 0, 0, 0, 0, 0, 0, 1, 0, 0, 1, 0, 0, 0, 0, 0, 0, 0, 0, 0, 0, 1, 1, 0, 1, 0, 1, 1, 0, 1, 0, 0, 0, 0, 0, 0, 0, 0, 1, 0, 0, 0, 0, 1, 0, 0, 1, 0, 0, 0, 0, 0, 1, 0, 0, 0, 0, 0, 0, 0, 1, 0, 1, 0, 0, 0, 0, 0, 0, 1, 0, 0, 0, 0, 1, 1, 1, 0, 0, 1, 1, 1, 1, 0, 1, 1, 0, 1, 1, 1, 1, 0, 1, 0, 0, 0, 0, 0, 0, 1, 0, 0, 1, 1, 0, 0, 0, 0, 0, 1, 0, 0, 0, 0, 0, 1, 0, 0, 0, 0, 1, 0, 0, 0, 0, 1, 0, 0, 0, 0, 0, 0, 0, 0, 1, 0, 1, 0, 0, 0, 0, 1, 0, 1, 0, 0, 1, 1, 0, 0, 1, 0, 0, 0, 0, 1, 0, 0, 0, 0, 0, 0, 0, 0, 0, 0, 0, 0, 1, 0, 0, 0, 1, 0, 0, 0, 0, 0, 1, 0, 0, 0, 0, 0, 1, 0, 1, 1, 1, 0, 1, 1, 0, 1, 1, 0, 0, 0, 0, 1, 0, 0, 1, 1, 1, 0, 0, 1, 0, 1, 0, 1, 0, 1, 0, 0, 0, 0, 0, 0, 0, 0, 0, 1, 0, 0, 0, 0, 0, 0, 0, 0, 1, 0, 1, 1, 0, 0, 0, 1, 1, 1, 0, 0, 0, 0, 0, 0, 0, 1, 1, 0, 0, 0, 0, 1, 0, 1, 0, 0, 0, 0, 0, 0, 0, 0, 0, 0, 1, 0, 0, 1, 0, 1, 1, 0, 0, 0, 1, 0, 0, 0, 0, 0, 0, 1, 0, 0, 0, 0, 0, 0, 0, 1, 0, 0, 0, 1, 0, 1, 0, 1, 0, 0, 0, 0, 0, 0, 0, 0, 0, 0, 1, 0, 0, 0, 0, 1, 0, 0, 0, 0, 0, 0, 0, 0, 0, 0, 0, 0, 0, 0, 0, 0, 1, 1, 1, 1, 0, 1, 0, 0, 0, 1, 0, 0, 1, 1, 0, 0, 1, 0, 0, 0, 0, 0, 0, 0, 0, 0, 1, 0, 1, 1, 0, 0, 0, 1, 1, 1, 0, 0, 0, 1, 0, 0, 0, 1, 0, 0]\n",
            "4129\n",
            "1223\n",
            "2906\n"
          ]
        }
      ]
    },
    {
      "cell_type": "markdown",
      "source": [
        "# Verificações e limpeza"
      ],
      "metadata": {
        "id": "GUjZ_KLmKwx-"
      }
    },
    {
      "cell_type": "code",
      "source": [
        "plt.imshow(Input_images[2000])"
      ],
      "metadata": {
        "colab": {
          "base_uri": "https://localhost:8080/"
        },
        "id": "_Kz4Hv57Zi0m",
        "outputId": "d1bd10c7-bea7-4692-b184-285e495180fb"
      },
      "execution_count": null,
      "outputs": [
        {
          "output_type": "execute_result",
          "data": {
            "text/plain": [
              "<matplotlib.image.AxesImage at 0x7ff0be963c10>"
            ]
          },
          "metadata": {},
          "execution_count": 7
        },
        {
          "output_type": "display_data",
          "data": {
            "text/plain": [
              "<Figure size 432x288 with 1 Axes>"
            ],
            "image/png": "[encoded data removed]"
          },
          "metadata": {
            "needs_background": "light"
          }
        }
      ]
    },
    {
      "cell_type": "code",
      "source": [
        "print('A lista de imagens tem {} imagens'.format(len(Input_images)))\n",
        "\n",
        "print('A lista de labels tem {} labels,'.format(len(num_labels)))\n",
        "\n",
        "print('dos quais {} são espirais, {} elípticos e {} incertos'.format(num_labels.count(0), num_labels.count(1), num_labels.count(2)))"
      ],
      "metadata": {
        "colab": {
          "base_uri": "https://localhost:8080/"
        },
        "id": "j6NSvNtCGqMO",
        "outputId": "e115f637-a80b-4bb8-f4ca-dda9ff54040e"
      },
      "execution_count": null,
      "outputs": [
        {
          "output_type": "stream",
          "name": "stdout",
          "text": [
            "A lista de imagens tem 4129 imagens\n",
            "A lista de labels tem 4129 labels,\n",
            "dos quais 2906 são espirais, 1223 elípticos e 0 incertos\n"
          ]
        }
      ]
    },
    {
      "cell_type": "markdown",
      "source": [
        "É necessário limpar os valores incertos para fazer uma classificação binária. Além disso, para manetar a simplicidade, a classificação simples, o conjunto de imagens será balanceado. Primeiro excluindo os incertos:"
      ],
      "metadata": {
        "id": "WPp4Dy7ULkYS"
      }
    },
    {
      "cell_type": "code",
      "source": [
        "unc_idx = [] # Crio uma lista com índices de incertos\n",
        "\n",
        "idx=0\n",
        "for label in num_labels: # Loop para procurar índices 2 (incertos) na lista num_labels\n",
        "    if label == 2:\n",
        "        unc_idx.append(idx)\n",
        "    idx += 1\n",
        "\n",
        "print(len(unc_idx))\n",
        "\n",
        "unc_idx.sort(reverse=True) # reverto a ordem da lista para evitar problemas com mudanças de índice após pop\n",
        "\n",
        "for index in unc_idx: # Loop que retira os objetos incertos da lista\n",
        "    num_labels.pop(index)\n",
        "    Input_images.pop(index)"
      ],
      "metadata": {
        "id": "TLXd3W-7JSvG",
        "colab": {
          "base_uri": "https://localhost:8080/"
        },
        "outputId": "c3bda158-2cdb-4ab1-964f-445d2e84a16e"
      },
      "execution_count": null,
      "outputs": [
        {
          "output_type": "stream",
          "name": "stdout",
          "text": [
            "0\n"
          ]
        }
      ]
    },
    {
      "cell_type": "markdown",
      "source": [
        "Agora balanceando o conjunto de dados:"
      ],
      "metadata": {
        "id": "_A3zNLVhNcb8"
      }
    },
    {
      "cell_type": "code",
      "source": [
        "while num_labels.count(0) != num_labels.count(1): \n",
        "    \n",
        "    pop_idx = random.randint(0, len(num_labels)-1) # Gero índice aleatório de num_labels e caso seja 0 (espiral), removo das duas listas\n",
        "    \n",
        "    if num_labels[pop_idx] == 0:\n",
        "        Input_images.pop(pop_idx)\n",
        "        num_labels.pop(pop_idx)"
      ],
      "metadata": {
        "id": "aWNcz_l1Niye"
      },
      "execution_count": null,
      "outputs": []
    },
    {
      "cell_type": "code",
      "source": [
        "print('A lista de imagens tem {} imagens'.format(len(Input_images)))\n",
        "\n",
        "print('A lista de labels tem {} labels,'.format(len(num_labels)))\n",
        "\n",
        "print('dos quais {} são espirais, {} elípticos e {} incertos'.format(num_labels.count(0), num_labels.count(1), num_labels.count(2)))"
      ],
      "metadata": {
        "colab": {
          "base_uri": "https://localhost:8080/"
        },
        "id": "eNORD8M5NPoc",
        "outputId": "67f9db76-099b-4d57-b3af-77403c51a0a6"
      },
      "execution_count": null,
      "outputs": [
        {
          "output_type": "stream",
          "name": "stdout",
          "text": [
            "A lista de imagens tem 2446 imagens\n",
            "A lista de labels tem 2446 labels,\n",
            "dos quais 1223 são espirais, 1223 elípticos e 0 incertos\n"
          ]
        }
      ]
    },
    {
      "cell_type": "markdown",
      "source": [
        "# Pré-processamento"
      ],
      "metadata": {
        "id": "wnP3MVoEPMb5"
      }
    },
    {
      "cell_type": "code",
      "source": [
        "# transformando listas em arrays e verificando shapes\n",
        "X = np.array(Input_images)\n",
        "Y = np.array(num_labels)\n",
        "\n",
        "# Separando em treinamento, validação e teste\n",
        "x_train, x_val , y_train, y_val = train_test_split(X, Y, test_size=.3, stratify = Y) # 70% treinamento, 30% validação, que ainda será dividida para teste\n",
        "x_val, x_test , y_val, y_test = train_test_split(x_val, y_val, test_size=1/3, stratify = y_val) # 2/3 (20% do total) para validação, 1/3 (10% do total) para teste\n",
        "\n",
        "# Aplicando One Hot Encoding aos labels\n",
        "y_train=to_categorical(y_train)\n",
        "y_val=to_categorical(y_val)\n",
        "y_test=to_categorical(y_test)\n",
        "\n",
        "# Criando Gerador de Augmentation\n",
        "train_generator = ImageDataGenerator(rotation_range = 180, horizontal_flip = True, vertical_flip = True )\n",
        "train_generator.fit(x_train)"
      ],
      "metadata": {
        "id": "GHcGk5gjPTOS"
      },
      "execution_count": null,
      "outputs": []
    },
    {
      "cell_type": "code",
      "source": [
        "# verificando dimensões\n",
        "print((x_train.shape,y_train.shape))\n",
        "print((x_val.shape,y_val.shape))\n",
        "print((x_test.shape,y_test.shape))\n",
        "\n",
        "x_train = np.array(x_train)\n",
        "x_val = np.array(x_val)\n",
        "x_test = np.array(x_test)\n"
      ],
      "metadata": {
        "colab": {
          "base_uri": "https://localhost:8080/"
        },
        "id": "LU4IJzWLTCDQ",
        "outputId": "080d7578-fa78-4055-d99f-d2976ec7882c"
      },
      "execution_count": null,
      "outputs": [
        {
          "output_type": "stream",
          "name": "stdout",
          "text": [
            "((1712, 128, 128, 3), (1712, 2))\n",
            "((489, 128, 128, 3), (489, 2))\n",
            "((245, 128, 128, 3), (245, 2))\n"
          ]
        }
      ]
    },
    {
      "cell_type": "markdown",
      "source": [
        "# Definição da Arquitetura"
      ],
      "metadata": {
        "id": "a3PEezmHSBle"
      }
    },
    {
      "cell_type": "code",
      "source": [
        "Input   = tf.keras.layers.Input\n",
        "\n",
        "Conv2D  = tf.keras.layers.Conv2D\n",
        "MaxPool = tf.keras.layers.MaxPooling2D\n",
        "Flatten = tf.keras.layers.Flatten\n",
        "Dropout = tf.keras.layers.Dropout\n",
        "Dense   = tf.keras.layers.Dense\n",
        "\n",
        "def Convolutional_Model():\n",
        "    Input_Layer = Input(shape=x_train[0].shape)\n",
        "\n",
        "    l = Conv2D(filters=16, kernel_size=3, activation='relu')(Input_Layer)\n",
        "    l = MaxPool(2)(l)\n",
        "\n",
        "    l = Conv2D(filters=32, kernel_size=3, activation='relu')(l)\n",
        "    l = MaxPool(2)(l)\n",
        "\n",
        "    l = Conv2D(filters=64, kernel_size=3, activation='relu')(l)\n",
        "    l = MaxPool(2)(l)\n",
        "    \n",
        "    l = Conv2D(filters=128, kernel_size=3, activation='relu')(l)\n",
        "    l = MaxPool(2)(l)\n",
        "    \n",
        "    l = Flatten()(l)\n",
        "    \n",
        "    l = Dropout(0.5)(l)\n",
        "    l = Dense(256, activation='relu')(l)\n",
        "    \n",
        "    Output_Layer = Dense(2, activation='softmax')(l)\n",
        "    \n",
        "    model = tf.keras.models.Model(inputs=Input_Layer, outputs=Output_Layer)\n",
        "    model.compile(optimizer=tf.keras.optimizers.Adam(learning_rate=1e-3), loss='binary_crossentropy', metrics=['binary_accuracy'])\n",
        "    \n",
        "    return model"
      ],
      "metadata": {
        "id": "y-f40M1tQdxA"
      },
      "execution_count": null,
      "outputs": []
    },
    {
      "cell_type": "code",
      "source": [
        "# Definição do callback do checkpoint para salvar modelo com melhor acurácia de validação\n",
        "filepath = 'my_best_model'\n",
        "checkpoint = ModelCheckpoint(filepath=filepath, monitor='val_binary_accuracy', verbose=1, save_best_only=True, mode='max')"
      ],
      "metadata": {
        "id": "WjIn1cywjP3m"
      },
      "execution_count": null,
      "outputs": []
    },
    {
      "cell_type": "code",
      "source": [
        "My_Model = Convolutional_Model()\n",
        "\n",
        "My_Model.summary()\n",
        "\n",
        "My_Model_Fit = My_Model.fit(train_generator.flow(x_train, y_train, batch_size = 50), validation_data=(x_val, y_val), epochs=80, batch_size=50, verbose=0, callbacks=[TqdmCallback(verbose=0), checkpoint])"
      ],
      "metadata": {
        "colab": {
          "base_uri": "https://localhost:8080/",
          "height": 1000,
          "referenced_widgets": [
            "3b5dd1eb54ef4551a435cb2e0ef5b7a8",
            "d0089e7f8e1c41fda1605e1d3e0cd5b4",
            "6ac7caca8c1a4d328d0fa6518e1e4e6a",
            "d22ebfd94fbe4b43919c6279a17812eb",
            "801d85ea63784a2c98e51be3951ca976",
            "99f08697d4f248f5a40946b368b1ba05",
            "abbc6766588c4d7c8a5c9d36dca407ca",
            "25a10195327943b99357a7d1034bed33",
            "5fc901969be043bc985ebcb2e9a27d7b",
            "50cb8172102e4750969baee3cc89ada6",
            "92458feacc6a463eae1ee7560f495cbd"
          ]
        },
        "id": "W0raGKu4SS9u",
        "outputId": "89c203c0-5d40-417f-efba-5177e3486043"
      },
      "execution_count": null,
      "outputs": [
        {
          "output_type": "stream",
          "name": "stdout",
          "text": [
            "Model: \"model\"\n",
            "_________________________________________________________________\n",
            " Layer (type)                Output Shape              Param #   \n",
            "=================================================================\n",
            " input_1 (InputLayer)        [(None, 128, 128, 3)]     0         \n",
            "                                                                 \n",
            " conv2d (Conv2D)             (None, 126, 126, 16)      448       \n",
            "                                                                 \n",
            " max_pooling2d (MaxPooling2D  (None, 63, 63, 16)       0         \n",
            " )                                                               \n",
            "                                                                 \n",
            " conv2d_1 (Conv2D)           (None, 61, 61, 32)        4640      \n",
            "                                                                 \n",
            " max_pooling2d_1 (MaxPooling  (None, 30, 30, 32)       0         \n",
            " 2D)                                                             \n",
            "                                                                 \n",
            " conv2d_2 (Conv2D)           (None, 28, 28, 64)        18496     \n",
            "                                                                 \n",
            " max_pooling2d_2 (MaxPooling  (None, 14, 14, 64)       0         \n",
            " 2D)                                                             \n",
            "                                                                 \n",
            " conv2d_3 (Conv2D)           (None, 12, 12, 128)       73856     \n",
            "                                                                 \n",
            " max_pooling2d_3 (MaxPooling  (None, 6, 6, 128)        0         \n",
            " 2D)                                                             \n",
            "                                                                 \n",
            " flatten (Flatten)           (None, 4608)              0         \n",
            "                                                                 \n",
            " dropout (Dropout)           (None, 4608)              0         \n",
            "                                                                 \n",
            " dense (Dense)               (None, 256)               1179904   \n",
            "                                                                 \n",
            " dense_1 (Dense)             (None, 2)                 514       \n",
            "                                                                 \n",
            "=================================================================\n",
            "Total params: 1,277,858\n",
            "Trainable params: 1,277,858\n",
            "Non-trainable params: 0\n",
            "_________________________________________________________________\n"
          ]
        },
        {
          "output_type": "display_data",
          "data": {
            "text/plain": [
              "0epoch [00:00, ?epoch/s]"
            ],
            "application/vnd.jupyter.widget-view+json": {
              "version_major": 2,
              "version_minor": 0,
              "model_id": "3b5dd1eb54ef4551a435cb2e0ef5b7a8"
            }
          },
          "metadata": {}
        },
        {
          "output_type": "stream",
          "name": "stdout",
          "text": [
            "\n",
            "Epoch 1: val_binary_accuracy improved from -inf to 0.51329, saving model to my_best_model\n",
            "INFO:tensorflow:Assets written to: my_best_model/assets\n",
            "\n",
            "Epoch 2: val_binary_accuracy improved from 0.51329 to 0.82209, saving model to my_best_model\n",
            "INFO:tensorflow:Assets written to: my_best_model/assets\n",
            "\n",
            "Epoch 3: val_binary_accuracy did not improve from 0.82209\n",
            "\n",
            "Epoch 4: val_binary_accuracy did not improve from 0.82209\n",
            "\n",
            "Epoch 5: val_binary_accuracy improved from 0.82209 to 0.86503, saving model to my_best_model\n",
            "INFO:tensorflow:Assets written to: my_best_model/assets\n",
            "\n",
            "Epoch 6: val_binary_accuracy did not improve from 0.86503\n",
            "\n",
            "Epoch 7: val_binary_accuracy did not improve from 0.86503\n",
            "\n",
            "Epoch 8: val_binary_accuracy did not improve from 0.86503\n",
            "\n",
            "Epoch 9: val_binary_accuracy improved from 0.86503 to 0.87730, saving model to my_best_model\n",
            "INFO:tensorflow:Assets written to: my_best_model/assets\n",
            "\n",
            "Epoch 10: val_binary_accuracy did not improve from 0.87730\n",
            "\n",
            "Epoch 11: val_binary_accuracy improved from 0.87730 to 0.90184, saving model to my_best_model\n",
            "INFO:tensorflow:Assets written to: my_best_model/assets\n",
            "\n",
            "Epoch 12: val_binary_accuracy did not improve from 0.90184\n",
            "\n",
            "Epoch 13: val_binary_accuracy did not improve from 0.90184\n",
            "\n",
            "Epoch 14: val_binary_accuracy improved from 0.90184 to 0.90389, saving model to my_best_model\n",
            "INFO:tensorflow:Assets written to: my_best_model/assets\n",
            "\n",
            "Epoch 15: val_binary_accuracy did not improve from 0.90389\n",
            "\n",
            "Epoch 16: val_binary_accuracy improved from 0.90389 to 0.93661, saving model to my_best_model\n",
            "INFO:tensorflow:Assets written to: my_best_model/assets\n",
            "\n",
            "Epoch 17: val_binary_accuracy did not improve from 0.93661\n",
            "\n",
            "Epoch 18: val_binary_accuracy did not improve from 0.93661\n",
            "\n",
            "Epoch 19: val_binary_accuracy improved from 0.93661 to 0.93865, saving model to my_best_model\n",
            "INFO:tensorflow:Assets written to: my_best_model/assets\n",
            "\n",
            "Epoch 20: val_binary_accuracy did not improve from 0.93865\n",
            "\n",
            "Epoch 21: val_binary_accuracy did not improve from 0.93865\n",
            "\n",
            "Epoch 22: val_binary_accuracy did not improve from 0.93865\n",
            "\n",
            "Epoch 23: val_binary_accuracy did not improve from 0.93865\n",
            "\n",
            "Epoch 24: val_binary_accuracy did not improve from 0.93865\n",
            "\n",
            "Epoch 25: val_binary_accuracy did not improve from 0.93865\n",
            "\n",
            "Epoch 26: val_binary_accuracy did not improve from 0.93865\n",
            "\n",
            "Epoch 27: val_binary_accuracy did not improve from 0.93865\n",
            "\n",
            "Epoch 28: val_binary_accuracy improved from 0.93865 to 0.94683, saving model to my_best_model\n",
            "INFO:tensorflow:Assets written to: my_best_model/assets\n",
            "\n",
            "Epoch 29: val_binary_accuracy did not improve from 0.94683\n",
            "\n",
            "Epoch 30: val_binary_accuracy did not improve from 0.94683\n",
            "\n",
            "Epoch 31: val_binary_accuracy did not improve from 0.94683\n",
            "\n",
            "Epoch 32: val_binary_accuracy did not improve from 0.94683\n",
            "\n",
            "Epoch 33: val_binary_accuracy did not improve from 0.94683\n",
            "\n",
            "Epoch 34: val_binary_accuracy did not improve from 0.94683\n",
            "\n",
            "Epoch 35: val_binary_accuracy did not improve from 0.94683\n",
            "\n",
            "Epoch 36: val_binary_accuracy did not improve from 0.94683\n",
            "\n",
            "Epoch 37: val_binary_accuracy did not improve from 0.94683\n",
            "\n",
            "Epoch 38: val_binary_accuracy did not improve from 0.94683\n",
            "\n",
            "Epoch 39: val_binary_accuracy did not improve from 0.94683\n",
            "\n",
            "Epoch 40: val_binary_accuracy did not improve from 0.94683\n",
            "\n",
            "Epoch 41: val_binary_accuracy did not improve from 0.94683\n",
            "\n",
            "Epoch 42: val_binary_accuracy did not improve from 0.94683\n",
            "\n",
            "Epoch 43: val_binary_accuracy did not improve from 0.94683\n",
            "\n",
            "Epoch 44: val_binary_accuracy did not improve from 0.94683\n",
            "\n",
            "Epoch 45: val_binary_accuracy did not improve from 0.94683\n",
            "\n",
            "Epoch 46: val_binary_accuracy did not improve from 0.94683\n",
            "\n",
            "Epoch 47: val_binary_accuracy did not improve from 0.94683\n",
            "\n",
            "Epoch 48: val_binary_accuracy improved from 0.94683 to 0.94888, saving model to my_best_model\n",
            "INFO:tensorflow:Assets written to: my_best_model/assets\n",
            "\n",
            "Epoch 49: val_binary_accuracy improved from 0.94888 to 0.95501, saving model to my_best_model\n",
            "INFO:tensorflow:Assets written to: my_best_model/assets\n",
            "\n",
            "Epoch 50: val_binary_accuracy did not improve from 0.95501\n",
            "\n",
            "Epoch 51: val_binary_accuracy did not improve from 0.95501\n",
            "\n",
            "Epoch 52: val_binary_accuracy did not improve from 0.95501\n",
            "\n",
            "Epoch 53: val_binary_accuracy did not improve from 0.95501\n",
            "\n",
            "Epoch 54: val_binary_accuracy did not improve from 0.95501\n",
            "\n",
            "Epoch 55: val_binary_accuracy did not improve from 0.95501\n",
            "\n",
            "Epoch 56: val_binary_accuracy did not improve from 0.95501\n",
            "\n",
            "Epoch 57: val_binary_accuracy did not improve from 0.95501\n",
            "\n",
            "Epoch 58: val_binary_accuracy did not improve from 0.95501\n",
            "\n",
            "Epoch 59: val_binary_accuracy did not improve from 0.95501\n",
            "\n",
            "Epoch 60: val_binary_accuracy did not improve from 0.95501\n",
            "\n",
            "Epoch 61: val_binary_accuracy did not improve from 0.95501\n",
            "\n",
            "Epoch 62: val_binary_accuracy did not improve from 0.95501\n",
            "\n",
            "Epoch 63: val_binary_accuracy did not improve from 0.95501\n",
            "\n",
            "Epoch 64: val_binary_accuracy did not improve from 0.95501\n",
            "\n",
            "Epoch 65: val_binary_accuracy did not improve from 0.95501\n",
            "\n",
            "Epoch 66: val_binary_accuracy did not improve from 0.95501\n",
            "\n",
            "Epoch 67: val_binary_accuracy did not improve from 0.95501\n",
            "\n",
            "Epoch 68: val_binary_accuracy did not improve from 0.95501\n",
            "\n",
            "Epoch 69: val_binary_accuracy did not improve from 0.95501\n",
            "\n",
            "Epoch 70: val_binary_accuracy did not improve from 0.95501\n",
            "\n",
            "Epoch 71: val_binary_accuracy did not improve from 0.95501\n",
            "\n",
            "Epoch 72: val_binary_accuracy improved from 0.95501 to 0.95706, saving model to my_best_model\n",
            "INFO:tensorflow:Assets written to: my_best_model/assets\n",
            "\n",
            "Epoch 73: val_binary_accuracy did not improve from 0.95706\n",
            "\n",
            "Epoch 74: val_binary_accuracy did not improve from 0.95706\n",
            "\n",
            "Epoch 75: val_binary_accuracy did not improve from 0.95706\n",
            "\n",
            "Epoch 76: val_binary_accuracy did not improve from 0.95706\n",
            "\n",
            "Epoch 77: val_binary_accuracy did not improve from 0.95706\n",
            "\n",
            "Epoch 78: val_binary_accuracy did not improve from 0.95706\n",
            "\n",
            "Epoch 79: val_binary_accuracy did not improve from 0.95706\n",
            "\n",
            "Epoch 80: val_binary_accuracy did not improve from 0.95706\n"
          ]
        }
      ]
    },
    {
      "cell_type": "markdown",
      "source": [
        "# Avaliação\n"
      ],
      "metadata": {
        "id": "24D45kcEj8cb"
      }
    },
    {
      "cell_type": "markdown",
      "source": [
        "O conjunto de labels de teste original é y_test. O OHE é aplicado sobre este conjunto mesmo, então para obter o conjunto ordinal original é preciso usar argmax."
      ],
      "metadata": {
        "id": "WAK-IL2O1xdY"
      }
    },
    {
      "cell_type": "markdown",
      "source": [
        "O Conjunto de predições é obtido aplicando o modelo a x_test"
      ],
      "metadata": {
        "id": "3fhG9sRE2lSp"
      }
    },
    {
      "cell_type": "code",
      "source": [
        "fig, ax = plt.subplots(1,2, figsize = (16, 8))\n",
        "\n",
        "ax[0].set_ylabel('Loss')\n",
        "ax[0].set_xlabel('Epochs')\n",
        "\n",
        "ax[0].plot(My_Model_Fit.history['loss'], color='C0',label='Training Loss')\n",
        "ax[0].plot(My_Model_Fit.history['val_loss'],color='C1',label='Validation Loss')\n",
        "ax[0].legend()\n",
        "\n",
        "ax[1].set_ylabel('Accuracy')\n",
        "ax[1].set_xlabel('Epochs')\n",
        "\n",
        "ax[1].plot(My_Model_Fit.history['binary_accuracy'], color='C0',label='Training Accuracy')\n",
        "ax[1].plot(My_Model_Fit.history['val_binary_accuracy'],color='C1',label='Validation Accuracy')\n",
        "ax[1].legend()"
      ],
      "metadata": {
        "colab": {
          "base_uri": "https://localhost:8080/",
          "height": 514
        },
        "id": "kiZ0l0yB0Grl",
        "outputId": "1dfb13f5-2997-4619-fccd-4ef6abe5f793"
      },
      "execution_count": null,
      "outputs": [
        {
          "output_type": "execute_result",
          "data": {
            "text/plain": [
              "<matplotlib.legend.Legend at 0x7ff03e0cfc10>"
            ]
          },
          "metadata": {},
          "execution_count": 21
        },
        {
          "output_type": "display_data",
          "data": {
            "text/plain": [
              "<Figure size 1152x576 with 2 Axes>"
            ],
            "image/png": "[encoded data removed]"
          },
          "metadata": {
            "needs_background": "light"
          }
        }
      ]
    },
    {
      "cell_type": "code",
      "source": [
        "#Defining function for confusion matrix plot\n",
        "def plot_confusion_matrix(y_true, y_pred, classes,\n",
        "                          normalize=False,\n",
        "                          title=None,\n",
        "                          cmap=plt.cm.Blues):\n",
        "    if not title:\n",
        "        if normalize:\n",
        "            title = 'Normalized confusion matrix'\n",
        "        else:\n",
        "            title = 'Confusion matrix, without normalization'\n",
        "\n",
        "    # Compute confusion matrix\n",
        "    cm = confusion_matrix(y_true, y_pred)\n",
        "    if normalize:\n",
        "        cm = cm.astype('float') / cm.sum(axis=1)[:, np.newaxis]\n",
        "        print(\"Normalized confusion matrix\")\n",
        "    else:\n",
        "        print('Confusion matrix, without normalization')\n",
        "\n",
        "#Print Confusion matrix\n",
        "    fig, ax = plt.subplots(figsize=(7,7))\n",
        "    im = ax.imshow(cm, interpolation='nearest', cmap=cmap)\n",
        "    ax.figure.colorbar(im, ax=ax)\n",
        "    # We want to show all ticks...\n",
        "    ax.set(xticks=np.arange(cm.shape[1]),\n",
        "           yticks=np.arange(cm.shape[0]),\n",
        "        xticklabels=classes, yticklabels=classes,\n",
        "           title=title,\n",
        "           ylabel='True label',\n",
        "           xlabel='Predicted label')\n",
        "\n",
        "   # Rotate the tick labels and set their alignment.\n",
        "    plt.setp(ax.get_xticklabels(), rotation=45, ha=\"right\",\n",
        "             rotation_mode=\"anchor\")\n",
        "    # Loop over data dimensions and create text annotations.\n",
        "    fmt = '.2f' if normalize else 'd'\n",
        "    thresh = cm.max() / 2.\n",
        "    for i in range(cm.shape[0]):\n",
        "        for j in range(cm.shape[1]):\n",
        "            ax.text(j, i, format(cm[i, j], fmt),\n",
        "                    ha=\"center\", va=\"center\",\n",
        "                    color=\"white\" if cm[i, j] > thresh else \"black\")\n",
        "    fig.tight_layout()\n",
        "    return ax\n",
        "\n",
        "np.set_printoptions(precision=2)"
      ],
      "metadata": {
        "id": "vSH0A1aIkEEH"
      },
      "execution_count": null,
      "outputs": []
    },
    {
      "cell_type": "code",
      "source": [
        "predictions = My_Model.predict(x_test)\n",
        "\n",
        "y_pred = [np.argmax(item) for item in predictions]\n",
        "y_pred = np.array(y_pred)\n",
        "\n",
        "y_true=np.argmax(y_test,axis=1)\n",
        "\n",
        "\n",
        "from sklearn.metrics import confusion_matrix\n",
        "confusion_mtx=confusion_matrix(y_true,y_pred)\n",
        "\n",
        "class_names=['Spiral', 'Elliptical']\n",
        "\n",
        "plot_confusion_matrix(y_true, y_pred, classes = class_names,title = 'Confusion matrix, without normalization')"
      ],
      "metadata": {
        "colab": {
          "base_uri": "https://localhost:8080/",
          "height": 524
        },
        "id": "aONX3RxTkGbo",
        "outputId": "527b199f-f0cc-449a-8888-d877305af9c2"
      },
      "execution_count": null,
      "outputs": [
        {
          "output_type": "stream",
          "name": "stdout",
          "text": [
            "Confusion matrix, without normalization\n"
          ]
        },
        {
          "output_type": "execute_result",
          "data": {
            "text/plain": [
              "<matplotlib.axes._subplots.AxesSubplot at 0x7ff02a7e7a90>"
            ]
          },
          "metadata": {},
          "execution_count": 23
        },
        {
          "output_type": "display_data",
          "data": {
            "text/plain": [
              "<Figure size 504x504 with 2 Axes>"
            ],
            "image/png": "[encoded data removed]"
          },
          "metadata": {
            "needs_background": "light"
          }
        }
      ]
    },
    {
      "cell_type": "code",
      "source": [
        "from sklearn.metrics import roc_curve \n",
        "my_fpr, my_tpr, my_thresholds = roc_curve(y_true, predictions[:, 1])\n",
        "\n",
        "from sklearn.metrics import auc\n",
        "auc = auc(my_fpr, my_tpr)\n",
        "\n",
        "fig, ax = plt.subplots()\n",
        "\n",
        "plt.xlabel('False positive rate')\n",
        "plt.ylabel('True positive rate')\n",
        "plt.title('Curva ROC')\n",
        "plt.plot(my_fpr, my_tpr, label='Keras (area = {:.3f})'.format(auc))\n",
        "plt.legend(loc='best')"
      ],
      "metadata": {
        "colab": {
          "base_uri": "https://localhost:8080/",
          "height": 312
        },
        "id": "A3XMjA9t_wvR",
        "outputId": "1d7ae835-3f8f-4c4e-a34a-6fdbc580faa1"
      },
      "execution_count": null,
      "outputs": [
        {
          "output_type": "execute_result",
          "data": {
            "text/plain": [
              "<matplotlib.legend.Legend at 0x7ff03e367b50>"
            ]
          },
          "metadata": {},
          "execution_count": 24
        },
        {
          "output_type": "display_data",
          "data": {
            "text/plain": [
              "<Figure size 432x288 with 1 Axes>"
            ],
            "image/png": "[encoded data removed]"
          },
          "metadata": {
            "needs_background": "light"
          }
        }
      ]
    },
    {
      "cell_type": "code",
      "source": [
        "#Classification accuracy\n",
        "from sklearn.metrics import accuracy_score\n",
        "acc_score = accuracy_score(y_true, y_pred)\n",
        "print('Accuracy Score = ', acc_score)"
      ],
      "metadata": {
        "colab": {
          "base_uri": "https://localhost:8080/"
        },
        "id": "LoHOFf8RkL0z",
        "outputId": "1a1738e5-2f4e-49ad-a35b-b0eb7b5957c7"
      },
      "execution_count": null,
      "outputs": [
        {
          "output_type": "stream",
          "name": "stdout",
          "text": [
            "Accuracy Score =  0.9183673469387755\n"
          ]
        }
      ]
    },
    {
      "cell_type": "markdown",
      "source": [
        "# Avaliação com melhor modelo\n"
      ],
      "metadata": {
        "id": "x97gfSf5sjFF"
      }
    },
    {
      "cell_type": "code",
      "source": [
        "best_model = tf.keras.models.load_model('my_best_model')"
      ],
      "metadata": {
        "id": "uymOLJv_ss-d"
      },
      "execution_count": null,
      "outputs": []
    },
    {
      "cell_type": "markdown",
      "source": [
        "O conjunto de labels de teste original é y_test. O OHE é aplicado sobre este conjunto mesmo, então para obter o conjunto ordinal original é preciso usar argmax."
      ],
      "metadata": {
        "id": "Vqch0SmssjFG"
      }
    },
    {
      "cell_type": "markdown",
      "source": [
        "O Conjunto de predições é obtido aplicando o modelo a x_test"
      ],
      "metadata": {
        "id": "ZQws-1bbsjFG"
      }
    },
    {
      "cell_type": "code",
      "source": [
        "best_predictions = best_model.predict(x_test)\n",
        "\n",
        "best_y_pred = [np.argmax(item) for item in best_predictions]\n",
        "best_y_pred = np.array(best_y_pred)\n",
        "\n",
        "best_y_true=np.argmax(y_test,axis=1)\n",
        "\n",
        "from sklearn.metrics import confusion_matrix\n",
        "confusion_mtx=confusion_matrix(best_y_true,best_y_pred)\n",
        "\n",
        "class_names=['Spiral', 'Elliptical']\n",
        "\n",
        "plot_confusion_matrix(best_y_true, best_y_pred, classes = class_names,title = 'Confusion matrix, without normalization')"
      ],
      "metadata": {
        "colab": {
          "base_uri": "https://localhost:8080/",
          "height": 524
        },
        "outputId": "254c85b4-e1de-43da-857a-b04b816b0927",
        "id": "JMAZNDMKsjFH"
      },
      "execution_count": null,
      "outputs": [
        {
          "output_type": "stream",
          "name": "stdout",
          "text": [
            "Confusion matrix, without normalization\n"
          ]
        },
        {
          "output_type": "execute_result",
          "data": {
            "text/plain": [
              "<matplotlib.axes._subplots.AxesSubplot at 0x7ff02af36d50>"
            ]
          },
          "metadata": {},
          "execution_count": 31
        },
        {
          "output_type": "display_data",
          "data": {
            "text/plain": [
              "<Figure size 504x504 with 2 Axes>"
            ],
            "image/png": "[encoded data removed]"
          },
          "metadata": {
            "needs_background": "light"
          }
        }
      ]
    },
    {
      "cell_type": "code",
      "source": [
        "from sklearn.metrics import roc_curve \n",
        "best_my_fpr, best_my_tpr, best_my_thresholds = roc_curve(best_y_true, best_predictions[:, 1])\n",
        "\n",
        "from sklearn.metrics import auc\n",
        "best_auc = auc(best_my_fpr, best_my_tpr)\n",
        "\n",
        "fig, ax = plt.subplots()\n",
        "\n",
        "plt.xlabel('False positive rate')\n",
        "plt.ylabel('True positive rate')\n",
        "plt.title('Curva ROC')\n",
        "plt.plot(best_my_fpr, best_my_tpr, label='Keras (area = {:.3f})'.format(best_auc))\n",
        "plt.legend(loc='best')"
      ],
      "metadata": {
        "colab": {
          "base_uri": "https://localhost:8080/",
          "height": 312
        },
        "outputId": "2f9c8ccb-852e-4d5b-8dca-e856e18a1edb",
        "id": "t9o0_wVgsjFH"
      },
      "execution_count": null,
      "outputs": [
        {
          "output_type": "execute_result",
          "data": {
            "text/plain": [
              "<matplotlib.legend.Legend at 0x7ff02a34ed50>"
            ]
          },
          "metadata": {},
          "execution_count": 34
        },
        {
          "output_type": "display_data",
          "data": {
            "text/plain": [
              "<Figure size 432x288 with 1 Axes>"
            ],
            "image/png": "[encoded data removed]"
          },
          "metadata": {
            "needs_background": "light"
          }
        }
      ]
    },
    {
      "cell_type": "code",
      "source": [
        "#Classification accuracy\n",
        "from sklearn.metrics import accuracy_score\n",
        "best_acc_score = accuracy_score(best_y_true, best_y_pred)\n",
        "print('Accuracy Score = ', best_acc_score)"
      ],
      "metadata": {
        "colab": {
          "base_uri": "https://localhost:8080/"
        },
        "outputId": "fa35fdf0-908a-4fae-e877-2a331b1ee863",
        "id": "Umt65ZLMsjFH"
      },
      "execution_count": null,
      "outputs": [
        {
          "output_type": "stream",
          "name": "stdout",
          "text": [
            "Accuracy Score =  0.9387755102040817\n"
          ]
        }
      ]
    },
    {
      "cell_type": "markdown",
      "source": [
        "# Salvando o modelo"
      ],
      "metadata": {
        "id": "dNL4HohP4fd9"
      }
    },
    {
      "cell_type": "code",
      "source": [
        "model_history = pd.DataFrame(data = My_Model_Fit.history)\n",
        "model_history.index += 1 # Para que coluna index seja equivalente a época e comece em 1 em vez de 0\n",
        "\n",
        "display(model_history)"
      ],
      "metadata": {
        "colab": {
          "base_uri": "https://localhost:8080/",
          "height": 424
        },
        "id": "HITIdtaq4w9a",
        "outputId": "f20c4a62-9a06-4650-9b0d-1d302d03196a"
      },
      "execution_count": null,
      "outputs": [
        {
          "output_type": "display_data",
          "data": {
            "text/plain": [
              "        loss  binary_accuracy  val_loss  val_binary_accuracy\n",
              "1   0.685597         0.537967  0.688150             0.513292\n",
              "2   0.599304         0.691005  0.437762             0.822086\n",
              "3   0.459769         0.792640  0.664752             0.631902\n",
              "4   0.378224         0.844042  0.501622             0.760736\n",
              "5   0.314694         0.869743  0.336040             0.865031\n",
              "..       ...              ...       ...                  ...\n",
              "76  0.120541         0.952687  0.147871             0.946830\n",
              "77  0.100969         0.960280  0.145589             0.957055\n",
              "78  0.126705         0.943925  0.156236             0.955010\n",
              "79  0.119364         0.952103  0.147795             0.946830\n",
              "80  0.120829         0.947430  0.148510             0.950920\n",
              "\n",
              "[80 rows x 4 columns]"
            ],
            "text/html": [
              "\n",
              "  <div id=\"df-ab8e7ae7-7619-4b75-891c-f42c9d87deb5\">\n",
              "    <div class=\"colab-df-container\">\n",
              "      <div>\n",
              "<style scoped>\n",
              "    .dataframe tbody tr th:only-of-type {\n",
              "        vertical-align: middle;\n",
              "    }\n",
              "\n",
              "    .dataframe tbody tr th {\n",
              "        vertical-align: top;\n",
              "    }\n",
              "\n",
              "    .dataframe thead th {\n",
              "        text-align: right;\n",
              "    }\n",
              "</style>\n",
              "<table border=\"1\" class=\"dataframe\">\n",
              "  <thead>\n",
              "    <tr style=\"text-align: right;\">\n",
              "      <th></th>\n",
              "      <th>loss</th>\n",
              "      <th>binary_accuracy</th>\n",
              "      <th>val_loss</th>\n",
              "      <th>val_binary_accuracy</th>\n",
              "    </tr>\n",
              "  </thead>\n",
              "  <tbody>\n",
              "    <tr>\n",
              "      <th>1</th>\n",
              "      <td>0.685597</td>\n",
              "      <td>0.537967</td>\n",
              "      <td>0.688150</td>\n",
              "      <td>0.513292</td>\n",
              "    </tr>\n",
              "    <tr>\n",
              "      <th>2</th>\n",
              "      <td>0.599304</td>\n",
              "      <td>0.691005</td>\n",
              "      <td>0.437762</td>\n",
              "      <td>0.822086</td>\n",
              "    </tr>\n",
              "    <tr>\n",
              "      <th>3</th>\n",
              "      <td>0.459769</td>\n",
              "      <td>0.792640</td>\n",
              "      <td>0.664752</td>\n",
              "      <td>0.631902</td>\n",
              "    </tr>\n",
              "    <tr>\n",
              "      <th>4</th>\n",
              "      <td>0.378224</td>\n",
              "      <td>0.844042</td>\n",
              "      <td>0.501622</td>\n",
              "      <td>0.760736</td>\n",
              "    </tr>\n",
              "    <tr>\n",
              "      <th>5</th>\n",
              "      <td>0.314694</td>\n",
              "      <td>0.869743</td>\n",
              "      <td>0.336040</td>\n",
              "      <td>0.865031</td>\n",
              "    </tr>\n",
              "    <tr>\n",
              "      <th>...</th>\n",
              "      <td>...</td>\n",
              "      <td>...</td>\n",
              "      <td>...</td>\n",
              "      <td>...</td>\n",
              "    </tr>\n",
              "    <tr>\n",
              "      <th>76</th>\n",
              "      <td>0.120541</td>\n",
              "      <td>0.952687</td>\n",
              "      <td>0.147871</td>\n",
              "      <td>0.946830</td>\n",
              "    </tr>\n",
              "    <tr>\n",
              "      <th>77</th>\n",
              "      <td>0.100969</td>\n",
              "      <td>0.960280</td>\n",
              "      <td>0.145589</td>\n",
              "      <td>0.957055</td>\n",
              "    </tr>\n",
              "    <tr>\n",
              "      <th>78</th>\n",
              "      <td>0.126705</td>\n",
              "      <td>0.943925</td>\n",
              "      <td>0.156236</td>\n",
              "      <td>0.955010</td>\n",
              "    </tr>\n",
              "    <tr>\n",
              "      <th>79</th>\n",
              "      <td>0.119364</td>\n",
              "      <td>0.952103</td>\n",
              "      <td>0.147795</td>\n",
              "      <td>0.946830</td>\n",
              "    </tr>\n",
              "    <tr>\n",
              "      <th>80</th>\n",
              "      <td>0.120829</td>\n",
              "      <td>0.947430</td>\n",
              "      <td>0.148510</td>\n",
              "      <td>0.950920</td>\n",
              "    </tr>\n",
              "  </tbody>\n",
              "</table>\n",
              "<p>80 rows × 4 columns</p>\n",
              "</div>\n",
              "      <button class=\"colab-df-convert\" onclick=\"convertToInteractive('df-ab8e7ae7-7619-4b75-891c-f42c9d87deb5')\"\n",
              "              title=\"Convert this dataframe to an interactive table.\"\n",
              "              style=\"display:none;\">\n",
              "        \n",
              "  <svg xmlns=\"http://www.w3.org/2000/svg\" height=\"24px\"viewBox=\"0 0 24 24\"\n",
              "       width=\"24px\">\n",
              "    <path d=\"M0 0h24v24H0V0z\" fill=\"none\"/>\n",
              "    <path d=\"M18.56 5.44l.94 2.06.94-2.06 2.06-.94-2.06-.94-.94-2.06-.94 2.06-2.06.94zm-11 1L8.5 8.5l.94-2.06 2.06-.94-2.06-.94L8.5 2.5l-.94 2.06-2.06.94zm10 10l.94 2.06.94-2.06 2.06-.94-2.06-.94-.94-2.06-.94 2.06-2.06.94z\"/><path d=\"M17.41 7.96l-1.37-1.37c-.4-.4-.92-.59-1.43-.59-.52 0-1.04.2-1.43.59L10.3 9.45l-7.72 7.72c-.78.78-.78 2.05 0 2.83L4 21.41c.39.39.9.59 1.41.59.51 0 1.02-.2 1.41-.59l7.78-7.78 2.81-2.81c.8-.78.8-2.07 0-2.86zM5.41 20L4 18.59l7.72-7.72 1.47 1.35L5.41 20z\"/>\n",
              "  </svg>\n",
              "      </button>\n",
              "      \n",
              "  <style>\n",
              "    .colab-df-container {\n",
              "      display:flex;\n",
              "      flex-wrap:wrap;\n",
              "      gap: 12px;\n",
              "    }\n",
              "\n",
              "    .colab-df-convert {\n",
              "      background-color: #E8F0FE;\n",
              "      border: none;\n",
              "      border-radius: 50%;\n",
              "      cursor: pointer;\n",
              "      display: none;\n",
              "      fill: #1967D2;\n",
              "      height: 32px;\n",
              "      padding: 0 0 0 0;\n",
              "      width: 32px;\n",
              "    }\n",
              "\n",
              "    .colab-df-convert:hover {\n",
              "      background-color: #E2EBFA;\n",
              "      box-shadow: 0px 1px 2px rgba(60, 64, 67, 0.3), 0px 1px 3px 1px rgba(60, 64, 67, 0.15);\n",
              "      fill: #174EA6;\n",
              "    }\n",
              "\n",
              "    [theme=dark] .colab-df-convert {\n",
              "      background-color: #3B4455;\n",
              "      fill: #D2E3FC;\n",
              "    }\n",
              "\n",
              "    [theme=dark] .colab-df-convert:hover {\n",
              "      background-color: #434B5C;\n",
              "      box-shadow: 0px 1px 3px 1px rgba(0, 0, 0, 0.15);\n",
              "      filter: drop-shadow(0px 1px 2px rgba(0, 0, 0, 0.3));\n",
              "      fill: #FFFFFF;\n",
              "    }\n",
              "  </style>\n",
              "\n",
              "      <script>\n",
              "        const buttonEl =\n",
              "          document.querySelector('#df-ab8e7ae7-7619-4b75-891c-f42c9d87deb5 button.colab-df-convert');\n",
              "        buttonEl.style.display =\n",
              "          google.colab.kernel.accessAllowed ? 'block' : 'none';\n",
              "\n",
              "        async function convertToInteractive(key) {\n",
              "          const element = document.querySelector('#df-ab8e7ae7-7619-4b75-891c-f42c9d87deb5');\n",
              "          const dataTable =\n",
              "            await google.colab.kernel.invokeFunction('convertToInteractive',\n",
              "                                                     [key], {});\n",
              "          if (!dataTable) return;\n",
              "\n",
              "          const docLinkHtml = 'Like what you see? Visit the ' +\n",
              "            '<a target=\"_blank\" href=https://colab.research.google.com/notebooks/data_table.ipynb>data table notebook</a>'\n",
              "            + ' to learn more about interactive tables.';\n",
              "          element.innerHTML = '';\n",
              "          dataTable['output_type'] = 'display_data';\n",
              "          await google.colab.output.renderOutput(dataTable, element);\n",
              "          const docLink = document.createElement('div');\n",
              "          docLink.innerHTML = docLinkHtml;\n",
              "          element.appendChild(docLink);\n",
              "        }\n",
              "      </script>\n",
              "    </div>\n",
              "  </div>\n",
              "  "
            ]
          },
          "metadata": {}
        }
      ]
    },
    {
      "cell_type": "code",
      "source": [
        "# Salvando último modelo\n",
        "My_Model.save('/content/drive/MyDrive/.../modelos/CNN-1/CNN_1_80epochs')\n",
        "\n",
        "#Salvando melhor modelo\n",
        "best_model.save('/content/drive/MyDrive/.../modelos/CNN-1/CNN_1_best_model')\n",
        "\n",
        "# Salvando histórico\n",
        "model_history.to_csv('/content/drive/MyDrive/.../modelos/CNN-1/CNN_1_80epochs.csv', index=True) "
      ],
      "metadata": {
        "id": "Xqjeiu_X4hSQ"
      },
      "execution_count": null,
      "outputs": []
    }
  ]
}